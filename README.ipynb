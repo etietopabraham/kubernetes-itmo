{
 "cells": [
  {
   "attachments": {},
   "cell_type": "markdown",
   "metadata": {},
   "source": [
    "<!-- Container Image -->\n",
    "\n",
    "image: node03.st:5000/pyspark-hdfs-jupyter:eabraham-373705"
   ]
  },
  {
   "attachments": {},
   "cell_type": "markdown",
   "metadata": {},
   "source": [
    "## Task 1 (1 point) Create Jupyter’s Deployment and Service.\n",
    "\n",
    "Requirements:\n",
    "а. Guaranteed QoS. Resources amount - 1 CPU, 2 Gb RAM\n",
    "b. Replicas number - 1.\n",
    "c. Pod has to contain the following label - jupyter: lab0\n",
    "d. Deployment name: lab0-jupyter\n",
    "e. Service name: lab0-jupyter-service\n",
    "f. Service has to forward requests only to this deployment’s pod. Ports number for traffic forwarding - 1.\n",
    "g. Service type - NodePort\n",
    "\n"
   ]
  },
  {
   "attachments": {},
   "cell_type": "markdown",
   "metadata": {},
   "source": [
    "Based on the above requirements, here's the Kubernetes deployment and service manifest for Jupyter:\n",
    "\n",
    "Also,\n",
    "\n",
    "Guaranteed Quality of Service (QoS) is a concept in Kubernetes that ensures a certain level of resources for Pods. Kubernetes has three QoS classes: Guaranteed, Burstable, and BestEffort.\n",
    "\n",
    "In the context of your manifest, Guaranteed QoS is achieved by setting the same values for both resource requests and resource limits in the Pod spec."
   ]
  },
  {
   "cell_type": "code",
   "execution_count": null,
   "metadata": {},
   "outputs": [],
   "source": [
    "# apiVersion: apps/v1\n",
    "# kind: Deployment\n",
    "# metadata:\n",
    "#   namespace: <your-namespace>\n",
    "#   name: lab0-jupyter\n",
    "#   labels:\n",
    "#     jupyter: lab0\n",
    "# spec:\n",
    "#   replicas: 1\n",
    "#   selector:\n",
    "#     matchLabels:\n",
    "#       jupyter: lab0\n",
    "#   template:\n",
    "#     metadata:\n",
    "#       labels:\n",
    "#         jupyter: lab0\n",
    "#     spec:\n",
    "#       containers:\n",
    "#       - name: jupyter-container\n",
    "#         image: node03.st:5000/pyspark-hdfs-jupyter:<your-namespace>\n",
    "#         ports:\n",
    "#         - containerPort: 8080\n",
    "#         resources:\n",
    "#           limits:\n",
    "#             cpu: \"1\"\n",
    "#             memory: \"2Gi\"\n",
    "#           requests:\n",
    "#             cpu: \"1\"\n",
    "#             memory: \"2Gi\"\n",
    "# ---\n",
    "# apiVersion: v1\n",
    "# kind: Service\n",
    "# metadata:\n",
    "#   name: lab0-jupyter-service\n",
    "#   namespace: <your-namespace>\n",
    "# spec:\n",
    "#   type: NodePort\n",
    "#   selector:\n",
    "#     jupyter: lab0\n",
    "#   ports:\n",
    "#   - protocol: TCP\n",
    "#     port: 80\n",
    "#     targetPort: 8080"
   ]
  },
  {
   "attachments": {},
   "cell_type": "markdown",
   "metadata": {},
   "source": [
    "You can create this file with your favorite editor, in your preferred directory, and copy it to your cluster:\n",
    "\n",
    "scp lab0-jupyter.yaml <your-namespace>@gateway.st:~/lab0-jupyter.yaml\n",
    "\n",
    "And then apply the updated manifest\n",
    "\n",
    "kubectl apply -f lab0-jupyter.yaml\n"
   ]
  },
  {
   "attachments": {},
   "cell_type": "markdown",
   "metadata": {},
   "source": [
    "## 2. (2 points) Modify previous Deployment and Service to face following conditions:\n",
    "\n",
    "а. Jupyter has to listen on 8282 port (you can set it up using args).\n",
    "b. Jupyter’s token has to match your gateway.st password.\n",
    "c. Service has to receive requests on port 80 and forward them on 8282 port .\n",
    "d. Deployment and Service names have to stay the same!"
   ]
  },
  {
   "attachments": {},
   "cell_type": "markdown",
   "metadata": {},
   "source": [
    "To modify the Deployment and Service to meet the new requirements, you need to update your lab0-jupyter.yaml"
   ]
  },
  {
   "cell_type": "code",
   "execution_count": null,
   "metadata": {},
   "outputs": [],
   "source": [
    "# apiVersion: apps/v1\n",
    "# kind: Deployment\n",
    "# metadata:\n",
    "#   namespace: <your-namespace>\n",
    "#   name: lab0-jupyter\n",
    "#   labels:\n",
    "#     jupyter: lab0\n",
    "# spec:\n",
    "#   replicas: 1\n",
    "#   selector:\n",
    "#     matchLabels:\n",
    "#       jupyter: lab0\n",
    "#   template:\n",
    "#     metadata:\n",
    "#       labels:\n",
    "#         jupyter: lab0\n",
    "#     spec:\n",
    "#       containers:\n",
    "#       - name: jupyter-container\n",
    "#         image: node03.st:5000/pyspark-hdfs-jupyter:<your-namespace>\n",
    "#         ports:\n",
    "#         - containerPort: 8282\n",
    "#         args: [\"--port\", \"8282\", \"--NotebookApp.token=<your-own-password>\"]\n",
    "#         args: [\"jupyter\", \"notebook\", \"--port\", \"8282\", \"--NotebookApp.token='pass1word'\"]\n",
    "\n",
    "#         resources:\n",
    "#           limits:\n",
    "#             cpu: \"1\"\n",
    "#             memory: \"2Gi\"\n",
    "#           requests:\n",
    "#             cpu: \"1\"\n",
    "#             memory: \"2Gi\"\n",
    "# ---\n",
    "# apiVersion: v1\n",
    "# kind: Service\n",
    "# metadata:\n",
    "#   name: lab0-jupyter-service\n",
    "#   namespace: <your-namespace>\n",
    "# spec:\n",
    "#   type: NodePort\n",
    "#   selector:\n",
    "#     jupyter: lab0\n",
    "#   ports:\n",
    "#   - protocol: TCP\n",
    "#     port: 80\n",
    "#     targetPort: 8282"
   ]
  },
  {
   "attachments": {},
   "cell_type": "markdown",
   "metadata": {},
   "source": [
    "Here's what changed:\n",
    "\n",
    "Updated the containerPort to 8282.\n",
    "Added args to the container spec to set up Jupyter to listen on port 8282 and use your gateway.st password as the token. Replace <your_gateway_password> with your actual password.\n",
    "Updated the targetPort of the Service to 8282.\n",
    "With these changes, your Deployment and Service should now meet the new requirements. "
   ]
  },
  {
   "attachments": {},
   "cell_type": "markdown",
   "metadata": {},
   "source": [
    "You can edit with favorite editor, in your preferred directory, and copy updated file it to your cluster:\n",
    "\n",
    "scp lab0-jupyter.yaml <your-namespace>@gateway.st:~/lab0-jupyter.yaml\n",
    "\n",
    "And then apply the updated manifest\n",
    "\n",
    "kubectl apply -f lab0-jupyter.yaml\n"
   ]
  },
  {
   "attachments": {},
   "cell_type": "markdown",
   "metadata": {},
   "source": [
    "## 3. (2 points) Create the following ConfigMap (CM):\n",
    "\n",
    "a. CM name: lab0-jupyter-cm\n",
    "b. CM has to contain a  file-like key. Key - jupyter_notebook_config.py\n",
    "c. Content for the jupyter_notebook_config.py key (2 rows): \n",
    "c.NotebookApp.trust_xheaders = True\n",
    "c.NotebookApp.quit_button = False\n"
   ]
  },
  {
   "attachments": {},
   "cell_type": "markdown",
   "metadata": {},
   "source": [
    "You can create the ConfigMap using a YAML manifest file"
   ]
  },
  {
   "cell_type": "code",
   "execution_count": null,
   "metadata": {},
   "outputs": [],
   "source": [
    "# apiVersion: v1\n",
    "# kind: ConfigMap\n",
    "# metadata:\n",
    "#   name: lab0-jupyter-cm\n",
    "#   namespace: <your-namespace>\n",
    "# data:\n",
    "#   jupyter_notebook_config.py: |\n",
    "#     c.NotebookApp.trust_xheaders = True\n",
    "#     c.NotebookApp.quit_button = False"
   ]
  },
  {
   "attachments": {},
   "cell_type": "markdown",
   "metadata": {},
   "source": [
    "you can vim or nano lab0-jupyter-cm.yaml to create this file in your cluster\n",
    "\n",
    "Then apply the manifest\n",
    "\n",
    "kubectl apply -f lab0-jupyter-cm.yaml"
   ]
  },
  {
   "attachments": {},
   "cell_type": "markdown",
   "metadata": {},
   "source": [
    "## 4. (3 points) Mount jupyter_notebook_config.py (only this file) from your CM into the Jupyter pod:\n",
    "\n",
    "а. Mount has to be completed from the CM.\n",
    "b. Mount path - /home/jovyan/.jupyter/jupyter_notebook_config.py\n",
    "c. Mount has to be read only.\n"
   ]
  },
  {
   "attachments": {},
   "cell_type": "markdown",
   "metadata": {},
   "source": [
    "To mount the jupyter_notebook_config.py from your ConfigMap into the Jupyter pod, you need to update your Deployment manifest to include volumeMounts and volumes sections."
   ]
  },
  {
   "cell_type": "code",
   "execution_count": null,
   "metadata": {},
   "outputs": [],
   "source": [
    "# apiVersion: apps/v1\n",
    "# kind: Deployment\n",
    "# metadata:\n",
    "#   namespace: <your-namespace>\n",
    "#   name: lab0-jupyter\n",
    "#   labels:\n",
    "#     jupyter: lab0\n",
    "# spec:\n",
    "#   replicas: 1\n",
    "#   selector:\n",
    "#     matchLabels:\n",
    "#       jupyter: lab0\n",
    "#   template:\n",
    "#     metadata:\n",
    "#       labels:\n",
    "#         jupyter: lab0\n",
    "#     spec:\n",
    "#       containers:\n",
    "#       - name: jupyter-container\n",
    "#         image: node03.st:5000/pyspark-hdfs-jupyter:<your-name-space>\n",
    "#         ports:\n",
    "#         - containerPort: 8282\n",
    "#         args: [\"jupyter\", \"notebook\", \"--port\", \"8282\", \"--NotebookApp.token='pass1word'\"]\n",
    "\n",
    "#         resources:\n",
    "#           limits:\n",
    "#             cpu: \"1\"\n",
    "#             memory: \"2Gi\"\n",
    "#           requests:\n",
    "#             cpu: \"1\"\n",
    "#             memory: \"2Gi\"\n",
    "#         volumeMounts:\n",
    "#         - name: config-volume\n",
    "#           mountPath: /home/jovyan/.jupyter/jupyter_notebook_config.py\n",
    "#           subPath: jupyter_notebook_config.py\n",
    "#           readOnly: true\n",
    "#       volumes:\n",
    "#       - name: config-volume\n",
    "#         configMap:\n",
    "#           name: lab0-jupyter-cm\n",
    "# ---\n",
    "# apiVersion: v1\n",
    "# kind: Service\n",
    "# metadata:\n",
    "#   name: lab0-jupyter-service\n",
    "#   namespace: <your-name-space>\n",
    "# spec:\n",
    "#   type: NodePort\n",
    "#   selector:\n",
    "#     jupyter: lab0\n",
    "#   ports:\n",
    "#   - protocol: TCP\n",
    "#     port: 80\n",
    "#     targetPort: 8282"
   ]
  },
  {
   "attachments": {},
   "cell_type": "markdown",
   "metadata": {},
   "source": [
    "Apply the updated manifest to your cluster as usual\n",
    "\n",
    "kubectl apply -f lab0-jupyter-cm.yaml\n",
    "\n",
    "In the above manifest, the volumeMounts section is added to the container spec, which mounts the ConfigMap's data as a file at the specified mountPath. The subPath field is used to specify the key from the ConfigMap, which in this case is jupyter_notebook_config.py. The readOnly: true option ensures that the mounted file is read-only.\n",
    "\n",
    "The volumes section is added to the pod spec, which defines a volume named config-volume that references the ConfigMap lab0-jupyter-cm. This volume is then used in the volumeMounts section to mount the data from the ConfigMap."
   ]
  },
  {
   "attachments": {},
   "cell_type": "markdown",
   "metadata": {},
   "source": [
    "## 5. (1 point) Save the Jupyter’s pod log with timestamps into the file lab0-jupyter.log\n"
   ]
  },
  {
   "attachments": {},
   "cell_type": "markdown",
   "metadata": {},
   "source": [
    "To save the Jupyter's pod logs with timestamps into a file, first, you need to get the name of the Jupyter pod. You can do this by running:\n",
    "\n",
    "kubectl get pods -l jupyter=lab0"
   ]
  },
  {
   "attachments": {},
   "cell_type": "markdown",
   "metadata": {},
   "source": [
    "Once you have the pod name, you can save the logs with timestamps by running:"
   ]
  },
  {
   "cell_type": "code",
   "execution_count": null,
   "metadata": {},
   "outputs": [],
   "source": [
    "# kubectl logs pod/(name_of_your_pod) --timestamps > lab0-jupyter.log\n"
   ]
  },
  {
   "attachments": {},
   "cell_type": "markdown",
   "metadata": {},
   "source": [
    "## 6. (1 point) Save in file lab0-ls-lah.sh the command to list files in the Jupyter container path /home/jovyan/.jupyter."
   ]
  },
  {
   "attachments": {},
   "cell_type": "markdown",
   "metadata": {},
   "source": [
    "You can create the file with nano or vim\n",
    "\n",
    "nano lab0-ls-lah.sh\n",
    "\n",
    "To save the command that lists files in the Jupyter container path /home/jovyan/.jupyter in a file called lab0-ls-lah.sh, simply create a file with the following content:\n"
   ]
  },
  {
   "cell_type": "code",
   "execution_count": null,
   "metadata": {},
   "outputs": [],
   "source": [
    "#!/bin/bash\n",
    "\n",
    "# kubectl exec -it (name_of_your_pod) -- ls -lah /home/jovyan/.jupyter\n"
   ]
  },
  {
   "attachments": {},
   "cell_type": "markdown",
   "metadata": {},
   "source": [
    "Make sure to give the script executable permissions:\n",
    "\n",
    "chmod +x lab0-ls-lah.sh"
   ]
  },
  {
   "attachments": {},
   "cell_type": "markdown",
   "metadata": {},
   "source": [
    "Now, you can run the script using:\n",
    "\n",
    "./lab0-ls-lah.sh\n"
   ]
  },
  {
   "attachments": {},
   "cell_type": "markdown",
   "metadata": {},
   "source": [
    "## CLEAN UP REPLICASETS WITH ZERO DESIRED, CURRENT AND READY REPLICSAS"
   ]
  },
  {
   "cell_type": "code",
   "execution_count": null,
   "metadata": {},
   "outputs": [],
   "source": [
    "# kubectl delete replicaset lab0-jupyter-5c55f44675\n",
    "# kubectl delete replicaset lab0-jupyter-5f48658678\n",
    "# kubectl delete replicaset lab0-jupyter-65f698fd75"
   ]
  }
 ],
 "metadata": {
  "language_info": {
   "name": "python"
  },
  "orig_nbformat": 4
 },
 "nbformat": 4,
 "nbformat_minor": 2
}
